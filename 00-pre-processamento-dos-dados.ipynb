{
 "cells": [
  {
   "cell_type": "code",
   "execution_count": 1,
   "metadata": {},
   "outputs": [],
   "source": [
    "import pdal\n",
    "import glob\n",
    "import geopandas as gpd\n",
    "import numpy as np"
   ]
  },
  {
   "cell_type": "code",
   "execution_count": 2,
   "metadata": {},
   "outputs": [],
   "source": [
    "files = glob.glob('downloads/LiDAR/*.laz')"
   ]
  },
  {
   "cell_type": "code",
   "execution_count": 3,
   "metadata": {},
   "outputs": [],
   "source": [
    "scms = [file[20:][:8] for file in files]"
   ]
  },
  {
   "cell_type": "code",
   "execution_count": 4,
   "metadata": {},
   "outputs": [],
   "source": [
    "gdf_articulacao = gpd.read_file(\"zip://downloads/SIRGAS_SHP_quadriculamdt.zip!/SIRGAS_SHP_quadriculamdt/\")"
   ]
  },
  {
   "cell_type": "code",
   "execution_count": 5,
   "metadata": {},
   "outputs": [],
   "source": [
    "_ = gdf_articulacao.set_crs(epsg=31983, inplace=True)"
   ]
  },
  {
   "cell_type": "code",
   "execution_count": 10,
   "metadata": {},
   "outputs": [],
   "source": [
    "resolution = 0.5\n",
    "\n",
    "def dem_pipeline(scm, width, height, origin_x, origin_y, resolution):\n",
    "    return [\n",
    "        {\n",
    "            \"type\": \"readers.las\",\n",
    "            \"filename\": f'downloads/LiDAR/MDS_{scm}_1000.laz',\n",
    "            \"override_srs\": \"EPSG:31983\"\n",
    "        },\n",
    "        {\n",
    "            \"type\":\"filters.range\",\n",
    "            \"limits\":\"Classification[2:2]\"\n",
    "        },\n",
    "        {\n",
    "            \"type\": \"filters.delaunay\"\n",
    "        },\n",
    "        {\n",
    "            \"type\": \"filters.faceraster\",\n",
    "            \"resolution\":resolution,\n",
    "            \"width\": width,\n",
    "            \"height\": height,\n",
    "            \"origin_x\": origin_x,\n",
    "            \"origin_y\": origin_y,\n",
    "        },        \n",
    "        {\n",
    "            \"filename\":f\"results/DEM/MDT-{scm}-50cm.tiff\",\n",
    "            \"gdaldriver\":\"GTiff\",\n",
    "            \"type\": \"writers.raster\",\n",
    "            \"gdalopts\":\"COMPRESS=ZSTD, PREDICTOR=3, BIGTIFF=YES\",\n",
    "            \"nodata\":\"0\",\n",
    "            \"data_type\": \"float32\",\n",
    "            # \"default_srs\": \"EPSG:31983\"\n",
    "        }\n",
    "    ]\n",
    "\n",
    "def laz_pipeline(scm, width, height, origin_x, origin_y, resolution):\n",
    "    return [\n",
    "        {\n",
    "            \"type\":\"readers.las\",\n",
    "            \"filename\":f\"downloads/LiDAR/MDS_{scm}_1000.laz\"\n",
    "        },\n",
    "        {\n",
    "            \"filename\":f\"sresults/BHM-Z-{scm}.tiff\",\n",
    "            \"gdaldriver\":\"GTiff\",\n",
    "            \"width\": width,\n",
    "            \"height\": height,\n",
    "            \"origin_x\": origin_x,\n",
    "            \"origin_y\": origin_y,\n",
    "            \"radius\": f'{resolution * 2 * np.sqrt(2)}',\n",
    "            \"override_srs\": \"EPSG:31983\",\n",
    "            \"output_type\":\"max\",\n",
    "            \"resolution\":resolution,\n",
    "            \"dimension\": \"Z\",\n",
    "            \"data_type\": \"float32\",\n",
    "            \"type\": \"writers.gdal\",\n",
    "            \"gdalopts\":\"COMPRESS=ZSTD, PREDICTOR=3, BIGTIFF=YES\",\n",
    "            \"where\": \"(Classification == 6)\",\n",
    "        },\n",
    "        {\n",
    "            \"type\":\"filters.hag_dem\",\n",
    "            \"raster\": \"results/DEM/MDT-{scm}-50cm.tiff\"\n",
    "        },\n",
    "        {\n",
    "            \"filename\":f\"results/BHM-{scm}.tiff\",\n",
    "            \"gdaldriver\":\"GTiff\",\n",
    "            \"output_type\":\"max\",\n",
    "            \"resolution\": resolution,\n",
    "            \"radius\": f'{resolution * 2 * np.sqrt(2)}',\n",
    "            \"dimension\":\"HeightAboveGround\",\n",
    "            \"width\": width,\n",
    "            \"height\": height,\n",
    "            \"origin_x\": origin_x,\n",
    "            \"origin_y\": origin_y,\n",
    "            # \"nodata\":\"0\",\n",
    "            \"data_type\": \"float32\",\n",
    "            \"type\": \"writers.gdal\",\n",
    "            \"where\": \"(Classification == 6)\",\n",
    "            \"override_srs\": \"EPSG:31983\"\n",
    "        },\n",
    "        {\n",
    "            \"filename\":f\"results/VHM-{scm}.tiff\",\n",
    "            \"gdaldriver\":\"GTiff\",\n",
    "            \"output_type\":\"max\",\n",
    "            \"resolution\":resolution,\n",
    "            \"radius\": f'{resolution * 2 * np.sqrt(2)}',\n",
    "            \"dimension\":\"HeightAboveGround\",\n",
    "            \"width\": 1077,\n",
    "            \"height\": 1166,\n",
    "            \"origin_x\": 323586,\n",
    "            \"origin_y\": 7386800,\n",
    "            # \"nodata\":\"0\",\n",
    "            \"data_type\": \"float32\",\n",
    "            \"type\": \"writers.gdal\",\n",
    "            \"where\": \"(Classification == 4) || (Classification == 5)\",\n",
    "            \"override_srs\": \"EPSG:31983\"\n",
    "        },\n",
    "        {\n",
    "            \"type\":\"filters.range\",\n",
    "            \"limits\":\"Classification[6:6]\"\n",
    "        },\n",
    "        {\n",
    "            \"type\":\"filters.voxeldownsize\",\n",
    "            \"cell\":0.5,\n",
    "            \"mode\":\"center\"\n",
    "        },\n",
    "        {\n",
    "            \"type\":\"filters.dbscan\",\n",
    "            \"min_points\":5,\n",
    "            \"eps\": (resolution + 0.10) * np.sqrt(2),\n",
    "            \"dimensions\":\"X,Y,Z\"\n",
    "        },\n",
    "        {\n",
    "            \"type\":\"filters.ferry\",\n",
    "            \"dimensions\":\"HeightAboveGround => Z\"\n",
    "        },\n",
    "        {\n",
    "            \"type\":\"writers.las\",\n",
    "            \"filename\":f\"sresults/Cluster-{scm}.laz\",\n",
    "            \"extra_dims\": \"all\",\n",
    "            # \"output_dims\":\"X,Y,Z,ClusterID\"\n",
    "        },\n",
    "    ]"
   ]
  },
  {
   "cell_type": "code",
   "execution_count": 11,
   "metadata": {},
   "outputs": [
    {
     "name": "stdout",
     "output_type": "stream",
     "text": [
      "3313-144\n"
     ]
    }
   ],
   "source": [
    "for _, scm in gdf_articulacao.loc[gdf_articulacao.qmdt_cod.isin(scms)].iterrows():\n",
    "    print(scm.qmdt_cod)\n",
    "    coords = [[xy[0], xy[1]] for xy in scm.geometry.exterior.coords]\n",
    "    xy_max = np.max(np.array(coords), axis=0) \n",
    "    xy_min = np.min(np.array(coords), axis=0)\n",
    "    width_height = np.ceil(xy_max * 2) - np.ceil(xy_min * 2)\n",
    "    # print(width_height)\n",
    "    origin_xy = np.floor(xy_min * 2)/2\n",
    "    # print(origin_xy)\n",
    "    dem = dem_pipeline(scm.qmdt_cod, width_height[0], width_height[1], xy_min[0], xy_min[1], resolution)\n",
    "\n",
    "    pipeline = pdal.Pipeline(json.dumps(laz))\n",
    "    # pipeline.validate()   \n",
    "    n_points = pipeline.execute()\n",
    "    print(f'Pipeline selected {n_points} points')\n",
    "    \n",
    "    laz = laz_pipeline(scm.qmdt_cod, width_height[0], width_height[1], xy_min[0], xy_min[1], resolution)\n",
    "\n",
    "    break\n",
    "\n"
   ]
  },
  {
   "cell_type": "code",
   "execution_count": 12,
   "metadata": {},
   "outputs": [
    {
     "data": {
      "text/plain": [
       "[{'type': 'readers.las', 'filename': 'downloads/LiDAR/MDS_3313-144_1000.laz'},\n",
       " {'filename': 'sresults/BHM-Z-3313-144.tiff',\n",
       "  'gdaldriver': 'GTiff',\n",
       "  'width': 1077.0,\n",
       "  'height': 1167.0,\n",
       "  'origin_x': 321914.703,\n",
       "  'origin_y': 7393125.297,\n",
       "  'radius': '1.4142135623730951',\n",
       "  'override_srs': 'EPSG:31983',\n",
       "  'output_type': 'max',\n",
       "  'resolution': 0.5,\n",
       "  'dimension': 'Z',\n",
       "  'data_type': 'float32',\n",
       "  'type': 'writers.gdal',\n",
       "  'gdalopts': 'COMPRESS=ZSTD, PREDICTOR=3, BIGTIFF=YES',\n",
       "  'where': '(Classification == 6)'},\n",
       " {'type': 'filters.hag_dem', 'raster': 'results/DEM/MDT-{scm}-50cm.tiff'},\n",
       " {'filename': 'results/BHM-3313-144.tiff',\n",
       "  'gdaldriver': 'GTiff',\n",
       "  'output_type': 'max',\n",
       "  'resolution': 0.5,\n",
       "  'radius': '1.4142135623730951',\n",
       "  'dimension': 'HeightAboveGround',\n",
       "  'width': 1077.0,\n",
       "  'height': 1167.0,\n",
       "  'origin_x': 321914.703,\n",
       "  'origin_y': 7393125.297,\n",
       "  'data_type': 'float32',\n",
       "  'type': 'writers.gdal',\n",
       "  'where': '(Classification == 6)',\n",
       "  'override_srs': 'EPSG:31983'},\n",
       " {'filename': 'results/VHM-3313-144.tiff',\n",
       "  'gdaldriver': 'GTiff',\n",
       "  'output_type': 'max',\n",
       "  'resolution': 0.5,\n",
       "  'radius': '1.4142135623730951',\n",
       "  'dimension': 'HeightAboveGround',\n",
       "  'width': 1077,\n",
       "  'height': 1166,\n",
       "  'origin_x': 323586,\n",
       "  'origin_y': 7386800,\n",
       "  'data_type': 'float32',\n",
       "  'type': 'writers.gdal',\n",
       "  'where': '(Classification == 4) || (Classification == 5)',\n",
       "  'override_srs': 'EPSG:31983'},\n",
       " {'type': 'filters.range', 'limits': 'Classification[6:6]'},\n",
       " {'type': 'filters.voxeldownsize', 'cell': 0.5, 'mode': 'center'},\n",
       " {'type': 'filters.dbscan',\n",
       "  'min_points': 5,\n",
       "  'eps': 0.848528137423857,\n",
       "  'dimensions': 'X,Y,Z'},\n",
       " {'type': 'filters.ferry', 'dimensions': 'HeightAboveGround => Z'},\n",
       " {'type': 'writers.las',\n",
       "  'filename': 'sresults/Cluster-3313-144.laz',\n",
       "  'extra_dims': 'all'}]"
      ]
     },
     "execution_count": 12,
     "metadata": {},
     "output_type": "execute_result"
    }
   ],
   "source": [
    "laz"
   ]
  },
  {
   "cell_type": "code",
   "execution_count": 71,
   "metadata": {},
   "outputs": [
    {
     "data": {
      "text/plain": [
       "array([ 321928.75 , 7393125.297])"
      ]
     },
     "execution_count": 71,
     "metadata": {},
     "output_type": "execute_result"
    }
   ],
   "source": [
    "xy_max"
   ]
  },
  {
   "cell_type": "code",
   "execution_count": 72,
   "metadata": {},
   "outputs": [
    {
     "data": {
      "text/plain": [
       "array([ 321390.036, 7392542.026])"
      ]
     },
     "execution_count": 72,
     "metadata": {},
     "output_type": "execute_result"
    }
   ],
   "source": [
    "xy_min"
   ]
  },
  {
   "cell_type": "code",
   "execution_count": 73,
   "metadata": {},
   "outputs": [
    {
     "data": {
      "text/plain": [
       "array([538.714, 583.271])"
      ]
     },
     "execution_count": 73,
     "metadata": {},
     "output_type": "execute_result"
    }
   ],
   "source": [
    "xy_max - xy_min"
   ]
  },
  {
   "cell_type": "code",
   "execution_count": null,
   "metadata": {},
   "outputs": [],
   "source": []
  }
 ],
 "metadata": {
  "kernelspec": {
   "display_name": "pdal",
   "language": "python",
   "name": "python3"
  },
  "language_info": {
   "codemirror_mode": {
    "name": "ipython",
    "version": 3
   },
   "file_extension": ".py",
   "mimetype": "text/x-python",
   "name": "python",
   "nbconvert_exporter": "python",
   "pygments_lexer": "ipython3",
   "version": "3.12.2"
  }
 },
 "nbformat": 4,
 "nbformat_minor": 2
}
