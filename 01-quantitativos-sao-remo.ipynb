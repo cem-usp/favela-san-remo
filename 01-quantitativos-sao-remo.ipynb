{
 "cells": [
  {
   "cell_type": "code",
   "execution_count": 5,
   "metadata": {},
   "outputs": [],
   "source": [
    "import geopandas as gpd\n",
    "import pandas as pd\n",
    "from rasterstats import zonal_stats"
   ]
  },
  {
   "cell_type": "code",
   "execution_count": 6,
   "metadata": {},
   "outputs": [],
   "source": [
    "gdf_sao_remo = gpd.read_file('downloads/sao_remo.gpkg')"
   ]
  },
  {
   "cell_type": "code",
   "execution_count": 30,
   "metadata": {},
   "outputs": [
    {
     "data": {
      "text/plain": [
       "82629.23141707557"
      ]
     },
     "execution_count": 30,
     "metadata": {},
     "output_type": "execute_result"
    }
   ],
   "source": [
    "gdf_sao_remo.area.sum()"
   ]
  },
  {
   "cell_type": "code",
   "execution_count": 7,
   "metadata": {},
   "outputs": [],
   "source": [
    "gdf_poligonos = gpd.read_file('results/san_remo-multipoint.gpkg')"
   ]
  },
  {
   "cell_type": "code",
   "execution_count": 8,
   "metadata": {},
   "outputs": [],
   "source": [
    "gdf_sao_remo_clipped = gpd.clip(gdf_poligonos, gdf_sao_remo)"
   ]
  },
  {
   "cell_type": "code",
   "execution_count": 9,
   "metadata": {},
   "outputs": [
    {
     "data": {
      "text/html": [
       "<div>\n",
       "<style scoped>\n",
       "    .dataframe tbody tr th:only-of-type {\n",
       "        vertical-align: middle;\n",
       "    }\n",
       "\n",
       "    .dataframe tbody tr th {\n",
       "        vertical-align: top;\n",
       "    }\n",
       "\n",
       "    .dataframe thead th {\n",
       "        text-align: right;\n",
       "    }\n",
       "</style>\n",
       "<table border=\"1\" class=\"dataframe\">\n",
       "  <thead>\n",
       "    <tr style=\"text-align: right;\">\n",
       "      <th></th>\n",
       "      <th>ClusterID</th>\n",
       "      <th>count</th>\n",
       "      <th>z_median</th>\n",
       "      <th>z_sum</th>\n",
       "      <th>intensity_median</th>\n",
       "      <th>red_median</th>\n",
       "      <th>green_median</th>\n",
       "      <th>blue_median</th>\n",
       "      <th>geometry</th>\n",
       "    </tr>\n",
       "  </thead>\n",
       "  <tbody>\n",
       "    <tr>\n",
       "      <th>1806</th>\n",
       "      <td>1810</td>\n",
       "      <td>396</td>\n",
       "      <td>9.404519</td>\n",
       "      <td>3750.225981</td>\n",
       "      <td>64.0</td>\n",
       "      <td>49408.0</td>\n",
       "      <td>41728.0</td>\n",
       "      <td>37632.0</td>\n",
       "      <td>MULTIPOINT ((321910.410 7393028.470), (321910....</td>\n",
       "    </tr>\n",
       "    <tr>\n",
       "      <th>1805</th>\n",
       "      <td>1809</td>\n",
       "      <td>127</td>\n",
       "      <td>6.134016</td>\n",
       "      <td>780.643867</td>\n",
       "      <td>36.0</td>\n",
       "      <td>14848.0</td>\n",
       "      <td>17152.0</td>\n",
       "      <td>19968.0</td>\n",
       "      <td>MULTIPOINT ((321887.410 7393030.470), (321887....</td>\n",
       "    </tr>\n",
       "    <tr>\n",
       "      <th>1803</th>\n",
       "      <td>1807</td>\n",
       "      <td>272</td>\n",
       "      <td>3.166077</td>\n",
       "      <td>888.208564</td>\n",
       "      <td>36.0</td>\n",
       "      <td>39040.0</td>\n",
       "      <td>39040.0</td>\n",
       "      <td>38272.0</td>\n",
       "      <td>MULTIPOINT ((321904.410 7393036.970), (321904....</td>\n",
       "    </tr>\n",
       "    <tr>\n",
       "      <th>1707</th>\n",
       "      <td>1711</td>\n",
       "      <td>114</td>\n",
       "      <td>8.934303</td>\n",
       "      <td>1012.780823</td>\n",
       "      <td>36.0</td>\n",
       "      <td>36736.0</td>\n",
       "      <td>37248.0</td>\n",
       "      <td>38656.0</td>\n",
       "      <td>MULTIPOINT ((321869.410 7393015.970), (321869....</td>\n",
       "    </tr>\n",
       "    <tr>\n",
       "      <th>1703</th>\n",
       "      <td>1707</td>\n",
       "      <td>537</td>\n",
       "      <td>5.696038</td>\n",
       "      <td>2978.453057</td>\n",
       "      <td>31.0</td>\n",
       "      <td>8192.0</td>\n",
       "      <td>10240.0</td>\n",
       "      <td>14080.0</td>\n",
       "      <td>MULTIPOINT ((321856.910 7393022.470), (321856....</td>\n",
       "    </tr>\n",
       "    <tr>\n",
       "      <th>...</th>\n",
       "      <td>...</td>\n",
       "      <td>...</td>\n",
       "      <td>...</td>\n",
       "      <td>...</td>\n",
       "      <td>...</td>\n",
       "      <td>...</td>\n",
       "      <td>...</td>\n",
       "      <td>...</td>\n",
       "      <td>...</td>\n",
       "    </tr>\n",
       "    <tr>\n",
       "      <th>374</th>\n",
       "      <td>376</td>\n",
       "      <td>156</td>\n",
       "      <td>8.571244</td>\n",
       "      <td>1324.327703</td>\n",
       "      <td>37.0</td>\n",
       "      <td>45696.0</td>\n",
       "      <td>45184.0</td>\n",
       "      <td>43776.0</td>\n",
       "      <td>MULTIPOINT ((321834.410 7393216.470), (321834....</td>\n",
       "    </tr>\n",
       "    <tr>\n",
       "      <th>367</th>\n",
       "      <td>369</td>\n",
       "      <td>298</td>\n",
       "      <td>6.658995</td>\n",
       "      <td>2064.494226</td>\n",
       "      <td>31.0</td>\n",
       "      <td>33024.0</td>\n",
       "      <td>33280.0</td>\n",
       "      <td>33280.0</td>\n",
       "      <td>MULTIPOINT ((321850.410 7393220.970), (321850....</td>\n",
       "    </tr>\n",
       "    <tr>\n",
       "      <th>361</th>\n",
       "      <td>363</td>\n",
       "      <td>575</td>\n",
       "      <td>5.372500</td>\n",
       "      <td>3057.472827</td>\n",
       "      <td>34.0</td>\n",
       "      <td>31232.0</td>\n",
       "      <td>31232.0</td>\n",
       "      <td>31488.0</td>\n",
       "      <td>MULTIPOINT ((321838.410 7393219.970), (321838....</td>\n",
       "    </tr>\n",
       "    <tr>\n",
       "      <th>282</th>\n",
       "      <td>284</td>\n",
       "      <td>383</td>\n",
       "      <td>6.191367</td>\n",
       "      <td>2361.289890</td>\n",
       "      <td>31.0</td>\n",
       "      <td>30720.0</td>\n",
       "      <td>30720.0</td>\n",
       "      <td>31232.0</td>\n",
       "      <td>MULTIPOINT ((321795.410 7393142.470), (321795....</td>\n",
       "    </tr>\n",
       "    <tr>\n",
       "      <th>284</th>\n",
       "      <td>286</td>\n",
       "      <td>542</td>\n",
       "      <td>5.137158</td>\n",
       "      <td>2597.443157</td>\n",
       "      <td>36.0</td>\n",
       "      <td>37632.0</td>\n",
       "      <td>36608.0</td>\n",
       "      <td>36352.0</td>\n",
       "      <td>MULTIPOINT ((321800.910 7393150.470), (321801....</td>\n",
       "    </tr>\n",
       "  </tbody>\n",
       "</table>\n",
       "<p>868 rows × 9 columns</p>\n",
       "</div>"
      ],
      "text/plain": [
       "      ClusterID  count  z_median        z_sum  intensity_median  red_median  \\\n",
       "1806       1810    396  9.404519  3750.225981              64.0     49408.0   \n",
       "1805       1809    127  6.134016   780.643867              36.0     14848.0   \n",
       "1803       1807    272  3.166077   888.208564              36.0     39040.0   \n",
       "1707       1711    114  8.934303  1012.780823              36.0     36736.0   \n",
       "1703       1707    537  5.696038  2978.453057              31.0      8192.0   \n",
       "...         ...    ...       ...          ...               ...         ...   \n",
       "374         376    156  8.571244  1324.327703              37.0     45696.0   \n",
       "367         369    298  6.658995  2064.494226              31.0     33024.0   \n",
       "361         363    575  5.372500  3057.472827              34.0     31232.0   \n",
       "282         284    383  6.191367  2361.289890              31.0     30720.0   \n",
       "284         286    542  5.137158  2597.443157              36.0     37632.0   \n",
       "\n",
       "      green_median  blue_median  \\\n",
       "1806       41728.0      37632.0   \n",
       "1805       17152.0      19968.0   \n",
       "1803       39040.0      38272.0   \n",
       "1707       37248.0      38656.0   \n",
       "1703       10240.0      14080.0   \n",
       "...            ...          ...   \n",
       "374        45184.0      43776.0   \n",
       "367        33280.0      33280.0   \n",
       "361        31232.0      31488.0   \n",
       "282        30720.0      31232.0   \n",
       "284        36608.0      36352.0   \n",
       "\n",
       "                                               geometry  \n",
       "1806  MULTIPOINT ((321910.410 7393028.470), (321910....  \n",
       "1805  MULTIPOINT ((321887.410 7393030.470), (321887....  \n",
       "1803  MULTIPOINT ((321904.410 7393036.970), (321904....  \n",
       "1707  MULTIPOINT ((321869.410 7393015.970), (321869....  \n",
       "1703  MULTIPOINT ((321856.910 7393022.470), (321856....  \n",
       "...                                                 ...  \n",
       "374   MULTIPOINT ((321834.410 7393216.470), (321834....  \n",
       "367   MULTIPOINT ((321850.410 7393220.970), (321850....  \n",
       "361   MULTIPOINT ((321838.410 7393219.970), (321838....  \n",
       "282   MULTIPOINT ((321795.410 7393142.470), (321795....  \n",
       "284   MULTIPOINT ((321800.910 7393150.470), (321801....  \n",
       "\n",
       "[868 rows x 9 columns]"
      ]
     },
     "execution_count": 9,
     "metadata": {},
     "output_type": "execute_result"
    }
   ],
   "source": [
    "gdf_sao_remo_clipped"
   ]
  },
  {
   "cell_type": "code",
   "execution_count": 35,
   "metadata": {},
   "outputs": [],
   "source": [
    "resolucao = 0.5\n",
    "area_de_projecao = gdf_sao_remo_clipped.loc[:, 'count'] * (resolucao ** 2)\n",
    "volume_construido = gdf_sao_remo_clipped.loc[:, 'z_sum'] * (resolucao ** 2)\n",
    "gabarito_mediano = gdf_sao_remo_clipped.loc[:, 'z_median']\n",
    "area_construida = volume_construido / 3.4\n",
    "CA_da_area = area_construida.sum() / gdf_sao_remo.area.sum()\n",
    "TO_da_area = area_de_projecao.sum() / gdf_sao_remo.area.sum()\n"
   ]
  },
  {
   "cell_type": "code",
   "execution_count": 36,
   "metadata": {},
   "outputs": [],
   "source": [
    "# Sumarizaçao de valores\n",
    "sumarização = {\n",
    "    'Quantidade de Unidades identificadas': [gdf_sao_remo_clipped.loc[:, 'ClusterID'].count()],\n",
    "    'Area de Projeção Total':[area_de_projecao.sum()],\n",
    "    'Area de Projeção Mediana':[area_de_projecao.median()],\n",
    "    'Volume Total Construído':[volume_construido.sum()],\n",
    "    'Volume Construído Mediano':[volume_construido.median()],\n",
    "    'Gabarito Mediano': [gabarito_mediano.median()],\n",
    "    'Área Total Construída': [area_construida.sum()],\n",
    "    'Área Construída Mediana': [area_construida.median()],\n",
    "    'Coeficiente de Aproveitamento': [CA_da_area],\n",
    "    'Taxa de Ocupação': [TO_da_area]\n",
    "\n",
    "}"
   ]
  },
  {
   "cell_type": "code",
   "execution_count": 37,
   "metadata": {},
   "outputs": [
    {
     "data": {
      "text/plain": [
       "{'Quantidade de Unidades identificadas': [868],\n",
       " 'Area de Projeção Total': [61142.5],\n",
       " 'Area de Projeção Mediana': [38.875],\n",
       " 'Volume Total Construído': [446825.05528686615],\n",
       " 'Volume Construído Mediano': [281.8295779418951],\n",
       " 'Gabarito Mediano': [7.464224853515617],\n",
       " 'Área Total Construída': [131419.13390790182],\n",
       " 'Área Construída Mediana': [82.8910523358515],\n",
       " 'Coeficiente de Aproveitamento': [1.5904678242080765],\n",
       " 'Taxa de Ocupação': [0.739962104831641]}"
      ]
     },
     "execution_count": 37,
     "metadata": {},
     "output_type": "execute_result"
    }
   ],
   "source": [
    "sumarização"
   ]
  },
  {
   "cell_type": "code",
   "execution_count": 43,
   "metadata": {},
   "outputs": [
    {
     "name": "stdout",
     "output_type": "stream",
     "text": [
      "\\begin{tabular}{lr}\n",
      "\\toprule\n",
      " & 0 \\\\\n",
      "\\midrule\n",
      "Quantidade de Unidades identificadas & 868.00 \\\\\n",
      "Area de Projeção Total & 61142.50 \\\\\n",
      "Area de Projeção Mediana & 38.88 \\\\\n",
      "Volume Total Construído & 446825.06 \\\\\n",
      "Volume Construído Mediano & 281.83 \\\\\n",
      "Gabarito Mediano & 7.46 \\\\\n",
      "Área Total Construída & 131419.13 \\\\\n",
      "Área Construída Mediana & 82.89 \\\\\n",
      "Coeficiente de Aproveitamento & 1.59 \\\\\n",
      "Taxa de Ocupação & 0.74 \\\\\n",
      "\\bottomrule\n",
      "\\end{tabular}\n",
      "\n"
     ]
    }
   ],
   "source": [
    "print(pd.DataFrame.from_dict(sumarização).T.round(2).to_latex(index=True, float_format=\"{:.2f}\".format))"
   ]
  },
  {
   "cell_type": "code",
   "execution_count": null,
   "metadata": {},
   "outputs": [],
   "source": []
  }
 ],
 "metadata": {
  "kernelspec": {
   "display_name": "pdal",
   "language": "python",
   "name": "python3"
  },
  "language_info": {
   "codemirror_mode": {
    "name": "ipython",
    "version": 3
   },
   "file_extension": ".py",
   "mimetype": "text/x-python",
   "name": "python",
   "nbconvert_exporter": "python",
   "pygments_lexer": "ipython3",
   "version": "3.12.2"
  }
 },
 "nbformat": 4,
 "nbformat_minor": 2
}
